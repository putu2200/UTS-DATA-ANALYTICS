{
  "metadata": {
    "kernelspec": {
      "display_name": "Python 3",
      "language": "python",
      "name": "python3"
    },
    "language_info": {
      "codemirror_mode": {
        "name": "ipython",
        "version": 3
      },
      "file_extension": ".py",
      "mimetype": "text/x-python",
      "name": "python",
      "nbconvert_exporter": "python",
      "pygments_lexer": "ipython3",
      "version": "3.7.3"
    },
    "colab": {
      "name": "online-retail-k-means-hierarchical-clustering.ipynb",
      "provenance": [],
      "include_colab_link": true
    }
  },
  "nbformat_minor": 0,
  "nbformat": 4,
  "cells": [
    {
      "cell_type": "markdown",
      "metadata": {
        "id": "view-in-github",
        "colab_type": "text"
      },
      "source": [
        "<a href=\"https://colab.research.google.com/github/putu2200/UTS-DATA-ANALYTICS/blob/main/online_retail_k_means_hierarchical_clustering.ipynb\" target=\"_parent\"><img src=\"https://colab.research.google.com/assets/colab-badge.svg\" alt=\"Open In Colab\"/></a>"
      ]
    },
    {
      "cell_type": "markdown",
      "source": [
        "![](https://www.finplus.co.in/wp-content/uploads/2017/10/Top-Categories-In-Online-Retail-In-India.jpg)"
      ],
      "metadata": {
        "id": "m339FzbUcBEN"
      }
    },
    {
      "cell_type": "markdown",
      "source": [
        "## Overview\n",
        "<a href=\"https://archive.ics.uci.edu/ml/datasets/online+retail\">Online retail is a transnational data set</a> which contains all the transactions occurring between 01/12/2010 and 09/12/2011 for a UK-based and registered non-store online retail. The company mainly sells unique all-occasion gifts. Many customers of the company are wholesalers.\n",
        "\n",
        "## Business Goal\n",
        "We aim to segement the Customers based on RFM so that the company can target its customers efficiently.\n",
        "\n",
        "#### The steps are broadly divided into:\n",
        "\n",
        "1. [Step 1: Reading and Understanding the Data](#1)\n",
        "1. [Step 2: Data Cleansing](#2)\n",
        "1. [Step 3: Data Preparation](#3)\n",
        "1. [Step 4: Model Building](#4)\n",
        "1. [Step 5: Final Analysis](#5)"
      ],
      "metadata": {
        "id": "OatnXG_PcBEW"
      }
    },
    {
      "cell_type": "markdown",
      "source": [
        "#### This kernel is based on the assignment by IIITB collaborated with upgrad"
      ],
      "metadata": {
        "id": "NkomRTcJcBEY"
      }
    },
    {
      "cell_type": "markdown",
      "source": [
        "#### If this Kernel helped you in any way, some <font color=\"red\"><b>UPVOTES</b></font> would be very much appreciated"
      ],
      "metadata": {
        "id": "rV88yegjcBEZ"
      }
    },
    {
      "cell_type": "markdown",
      "source": [
        "<a id=\"1\"></a> <br>\n",
        "## Step 1 : Reading and Understanding Data"
      ],
      "metadata": {
        "id": "a_WgHqr6cBEa"
      }
    },
    {
      "cell_type": "code",
      "source": [
        "# import required libraries for dataframe and visualization\n",
        "\n",
        "import numpy as np\n",
        "import pandas as pd\n",
        "import matplotlib.pyplot as plt\n",
        "import seaborn as sns\n",
        "import datetime as dt\n",
        "\n",
        "# import required libraries for clustering\n",
        "import sklearn\n",
        "from sklearn.preprocessing import StandardScaler\n",
        "from sklearn.cluster import KMeans\n",
        "from sklearn.metrics import silhouette_score\n",
        "from scipy.cluster.hierarchy import linkage\n",
        "from scipy.cluster.hierarchy import dendrogram\n",
        "from scipy.cluster.hierarchy import cut_tree"
      ],
      "metadata": {
        "trusted": true,
        "id": "_uDfTAAncBEb"
      },
      "execution_count": null,
      "outputs": []
    },
    {
      "cell_type": "code",
      "source": [
        "# Reading the data on which analysis needs to be done\n",
        "\n",
        "retail = pd.read_csv('../input/online-retail-customer-clustering/OnlineRetail.csv', sep=\",\", encoding=\"ISO-8859-1\", header=0)\n",
        "retail.head()"
      ],
      "metadata": {
        "trusted": true,
        "id": "KPZu-O5RcBEd"
      },
      "execution_count": null,
      "outputs": []
    },
    {
      "cell_type": "code",
      "source": [
        "# shape of df\n",
        "\n",
        "retail.shape"
      ],
      "metadata": {
        "trusted": true,
        "id": "f8iqEArQcBEf"
      },
      "execution_count": null,
      "outputs": []
    },
    {
      "cell_type": "code",
      "source": [
        "# df info\n",
        "\n",
        "retail.info()"
      ],
      "metadata": {
        "trusted": true,
        "id": "UOhF5vNfcBEg"
      },
      "execution_count": null,
      "outputs": []
    },
    {
      "cell_type": "code",
      "source": [
        "# df description\n",
        "\n",
        "retail.describe()"
      ],
      "metadata": {
        "trusted": true,
        "id": "4fcjfkHhcBEh"
      },
      "execution_count": null,
      "outputs": []
    },
    {
      "cell_type": "markdown",
      "source": [
        "<a id=\"2\"></a> <br>\n",
        "## Step 2 : Data Cleansing"
      ],
      "metadata": {
        "id": "4GCg9BT8cBEj"
      }
    },
    {
      "cell_type": "code",
      "source": [
        "# Calculating the Missing Values % contribution in DF\n",
        "\n",
        "df_null = round(100*(retail.isnull().sum())/len(retail), 2)\n",
        "df_null"
      ],
      "metadata": {
        "trusted": true,
        "id": "iG8Q5ihlcBEj"
      },
      "execution_count": null,
      "outputs": []
    },
    {
      "cell_type": "code",
      "source": [
        "# Droping rows having missing values\n",
        "\n",
        "retail = retail.dropna()\n",
        "retail.shape"
      ],
      "metadata": {
        "trusted": true,
        "id": "t1yqAxFKcBEk"
      },
      "execution_count": null,
      "outputs": []
    },
    {
      "cell_type": "code",
      "source": [
        "# Changing the datatype of Customer Id as per Business understanding\n",
        "\n",
        "retail['CustomerID'] = retail['CustomerID'].astype(str)"
      ],
      "metadata": {
        "trusted": true,
        "id": "s8s49zrNcBEl"
      },
      "execution_count": null,
      "outputs": []
    },
    {
      "cell_type": "markdown",
      "source": [
        "<a id=\"3\"></a> <br>\n",
        "## Step 3 : Data Preparation"
      ],
      "metadata": {
        "id": "yu_Ul4KycBEl"
      }
    },
    {
      "cell_type": "markdown",
      "source": [
        "#### We are going to analysis the Customers based on below 3 factors:\n",
        "- R (Recency): Number of days since last purchase\n",
        "- F (Frequency): Number of tracsactions\n",
        "- M (Monetary): Total amount of transactions (revenue contributed)"
      ],
      "metadata": {
        "id": "-Q_oLE91cBEm"
      }
    },
    {
      "cell_type": "code",
      "source": [
        "# New Attribute : Monetary\n",
        "\n",
        "retail['Amount'] = retail['Quantity']*retail['UnitPrice']\n",
        "rfm_m = retail.groupby('CustomerID')['Amount'].sum()\n",
        "rfm_m = rfm_m.reset_index()\n",
        "rfm_m.head()"
      ],
      "metadata": {
        "trusted": true,
        "id": "EKssJRCPcBEn"
      },
      "execution_count": null,
      "outputs": []
    },
    {
      "cell_type": "code",
      "source": [
        "# New Attribute : Frequency\n",
        "\n",
        "rfm_f = retail.groupby('CustomerID')['InvoiceNo'].count()\n",
        "rfm_f = rfm_f.reset_index()\n",
        "rfm_f.columns = ['CustomerID', 'Frequency']\n",
        "rfm_f.head()"
      ],
      "metadata": {
        "trusted": true,
        "id": "HSgjb5NtcBEn"
      },
      "execution_count": null,
      "outputs": []
    },
    {
      "cell_type": "code",
      "source": [
        "# Merging the two dfs\n",
        "\n",
        "rfm = pd.merge(rfm_m, rfm_f, on='CustomerID', how='inner')\n",
        "rfm.head()"
      ],
      "metadata": {
        "scrolled": true,
        "trusted": true,
        "id": "Ytg8n6c3cBEo"
      },
      "execution_count": null,
      "outputs": []
    },
    {
      "cell_type": "code",
      "source": [
        "# New Attribute : Recency\n",
        "\n",
        "# Convert to datetime to proper datatype\n",
        "\n",
        "retail['InvoiceDate'] = pd.to_datetime(retail['InvoiceDate'],format='%d-%m-%Y %H:%M')"
      ],
      "metadata": {
        "trusted": true,
        "id": "sQV3ZAPEcBEo"
      },
      "execution_count": null,
      "outputs": []
    },
    {
      "cell_type": "code",
      "source": [
        "# Compute the maximum date to know the last transaction date\n",
        "\n",
        "max_date = max(retail['InvoiceDate'])\n",
        "max_date"
      ],
      "metadata": {
        "trusted": true,
        "id": "IjlaCFgvcBEp"
      },
      "execution_count": null,
      "outputs": []
    },
    {
      "cell_type": "code",
      "source": [
        "# Compute the difference between max date and transaction date\n",
        "\n",
        "retail['Diff'] = max_date - retail['InvoiceDate']\n",
        "retail.head()"
      ],
      "metadata": {
        "trusted": true,
        "id": "MmOn2GzQcBEp"
      },
      "execution_count": null,
      "outputs": []
    },
    {
      "cell_type": "code",
      "source": [
        "# Compute last transaction date to get the recency of customers\n",
        "\n",
        "rfm_p = retail.groupby('CustomerID')['Diff'].min()\n",
        "rfm_p = rfm_p.reset_index()\n",
        "rfm_p.head()"
      ],
      "metadata": {
        "trusted": true,
        "id": "DiVCqtfYcBEq"
      },
      "execution_count": null,
      "outputs": []
    },
    {
      "cell_type": "code",
      "source": [
        "# Extract number of days only\n",
        "\n",
        "rfm_p['Diff'] = rfm_p['Diff'].dt.days\n",
        "rfm_p.head()"
      ],
      "metadata": {
        "trusted": true,
        "id": "1o9HstG-cBEq"
      },
      "execution_count": null,
      "outputs": []
    },
    {
      "cell_type": "code",
      "source": [
        "# Merge tha dataframes to get the final RFM dataframe\n",
        "\n",
        "rfm = pd.merge(rfm, rfm_p, on='CustomerID', how='inner')\n",
        "rfm.columns = ['CustomerID', 'Amount', 'Frequency', 'Recency']\n",
        "rfm.head()"
      ],
      "metadata": {
        "trusted": true,
        "id": "QHCrKig6cBEr"
      },
      "execution_count": null,
      "outputs": []
    },
    {
      "cell_type": "markdown",
      "source": [
        "#### There are 2 types of outliers and we will treat outliers as it can skew our dataset\n",
        "- Statistical\n",
        "- Domain specific"
      ],
      "metadata": {
        "id": "79bxbu9bcBEr"
      }
    },
    {
      "cell_type": "code",
      "source": [
        "# Outlier Analysis of Amount Frequency and Recency\n",
        "\n",
        "attributes = ['Amount','Frequency','Recency']\n",
        "plt.rcParams['figure.figsize'] = [10,8]\n",
        "sns.boxplot(data = rfm[attributes], orient=\"v\", palette=\"Set2\" ,whis=1.5,saturation=1, width=0.7)\n",
        "plt.title(\"Outliers Variable Distribution\", fontsize = 14, fontweight = 'bold')\n",
        "plt.ylabel(\"Range\", fontweight = 'bold')\n",
        "plt.xlabel(\"Attributes\", fontweight = 'bold')"
      ],
      "metadata": {
        "trusted": true,
        "id": "qA7YBpVxcBEr"
      },
      "execution_count": null,
      "outputs": []
    },
    {
      "cell_type": "code",
      "source": [
        "# Removing (statistical) outliers for Amount\n",
        "Q1 = rfm.Amount.quantile(0.05)\n",
        "Q3 = rfm.Amount.quantile(0.95)\n",
        "IQR = Q3 - Q1\n",
        "rfm = rfm[(rfm.Amount >= Q1 - 1.5*IQR) & (rfm.Amount <= Q3 + 1.5*IQR)]\n",
        "\n",
        "# Removing (statistical) outliers for Recency\n",
        "Q1 = rfm.Recency.quantile(0.05)\n",
        "Q3 = rfm.Recency.quantile(0.95)\n",
        "IQR = Q3 - Q1\n",
        "rfm = rfm[(rfm.Recency >= Q1 - 1.5*IQR) & (rfm.Recency <= Q3 + 1.5*IQR)]\n",
        "\n",
        "# Removing (statistical) outliers for Frequency\n",
        "Q1 = rfm.Frequency.quantile(0.05)\n",
        "Q3 = rfm.Frequency.quantile(0.95)\n",
        "IQR = Q3 - Q1\n",
        "rfm = rfm[(rfm.Frequency >= Q1 - 1.5*IQR) & (rfm.Frequency <= Q3 + 1.5*IQR)]"
      ],
      "metadata": {
        "trusted": true,
        "id": "ImV8-lTTcBEs"
      },
      "execution_count": null,
      "outputs": []
    },
    {
      "cell_type": "markdown",
      "source": [
        "### Rescaling the Attributes\n",
        "\n",
        "It is extremely important to rescale the variables so that they have a comparable scale.|\n",
        "There are two common ways of rescaling:\n",
        "\n",
        "1. Min-Max scaling \n",
        "2. Standardisation (mean-0, sigma-1) \n",
        "\n",
        "Here, we will use Standardisation Scaling."
      ],
      "metadata": {
        "id": "MOIFh6DtcBEs"
      }
    },
    {
      "cell_type": "code",
      "source": [
        "# Rescaling the attributes\n",
        "\n",
        "rfm_df = rfm[['Amount', 'Frequency', 'Recency']]\n",
        "\n",
        "# Instantiate\n",
        "scaler = StandardScaler()\n",
        "\n",
        "# fit_transform\n",
        "rfm_df_scaled = scaler.fit_transform(rfm_df)\n",
        "rfm_df_scaled.shape"
      ],
      "metadata": {
        "trusted": true,
        "id": "ypCRnt2zcBEt"
      },
      "execution_count": null,
      "outputs": []
    },
    {
      "cell_type": "code",
      "source": [
        "rfm_df_scaled = pd.DataFrame(rfm_df_scaled)\n",
        "rfm_df_scaled.columns = ['Amount', 'Frequency', 'Recency']\n",
        "rfm_df_scaled.head()"
      ],
      "metadata": {
        "trusted": true,
        "id": "T8YhKcdScBEt"
      },
      "execution_count": null,
      "outputs": []
    },
    {
      "cell_type": "markdown",
      "source": [
        "<a id=\"4\"></a> <br>\n",
        "## Step 4 : Building the Model"
      ],
      "metadata": {
        "id": "Yy9rIjDucBEt"
      }
    },
    {
      "cell_type": "markdown",
      "source": [
        "### K-Means Clustering"
      ],
      "metadata": {
        "id": "6U49swkfcBEu"
      }
    },
    {
      "cell_type": "markdown",
      "source": [
        "K-means clustering is one of the simplest and popular unsupervised machine learning algorithms.<br>\n",
        "\n",
        "The algorithm works as follows:\n",
        "\n",
        "- First we initialize k points, called means, randomly.\n",
        "- We categorize each item to its closest mean and we update the mean’s coordinates, which are the averages of the items categorized in that mean so far.\n",
        "- We repeat the process for a given number of iterations and at the end, we have our clusters."
      ],
      "metadata": {
        "id": "msnpW4sacBEu"
      }
    },
    {
      "cell_type": "code",
      "source": [
        "# k-means with some arbitrary k\n",
        "\n",
        "kmeans = KMeans(n_clusters=4, max_iter=50)\n",
        "kmeans.fit(rfm_df_scaled)"
      ],
      "metadata": {
        "trusted": true,
        "id": "_m9B9jxUcBEv"
      },
      "execution_count": null,
      "outputs": []
    },
    {
      "cell_type": "code",
      "source": [
        "kmeans.labels_"
      ],
      "metadata": {
        "trusted": true,
        "id": "hhyoj0sGcBEv"
      },
      "execution_count": null,
      "outputs": []
    },
    {
      "cell_type": "markdown",
      "source": [
        "### Finding the Optimal Number of Clusters"
      ],
      "metadata": {
        "id": "O-9ngMIJcBEw"
      }
    },
    {
      "cell_type": "markdown",
      "source": [
        "#### Elbow Curve to get the right number of Clusters\n",
        "A fundamental step for any unsupervised algorithm is to determine the optimal number of clusters into which the data may be clustered. The Elbow Method is one of the most popular methods to determine this optimal value of k."
      ],
      "metadata": {
        "id": "c3b0munBcBEw"
      }
    },
    {
      "cell_type": "code",
      "source": [
        "# Elbow-curve/SSD\n",
        "\n",
        "ssd = []\n",
        "range_n_clusters = [2, 3, 4, 5, 6, 7, 8]\n",
        "for num_clusters in range_n_clusters:\n",
        "    kmeans = KMeans(n_clusters=num_clusters, max_iter=50)\n",
        "    kmeans.fit(rfm_df_scaled)\n",
        "    \n",
        "    ssd.append(kmeans.inertia_)\n",
        "    \n",
        "# plot the SSDs for each n_clusters\n",
        "plt.plot(ssd)"
      ],
      "metadata": {
        "trusted": true,
        "id": "Ea1OXXoXcBEw"
      },
      "execution_count": null,
      "outputs": []
    },
    {
      "cell_type": "markdown",
      "source": [
        "### Silhouette Analysis\n",
        "\n",
        "$$\\text{silhouette score}=\\frac{p-q}{max(p,q)}$$\n",
        "\n",
        "$p$ is the mean distance to the points in the nearest cluster that the data point is not a part of\n",
        "\n",
        "$q$ is the mean intra-cluster distance to all the points in its own cluster.\n",
        "\n",
        "* The value of the silhouette score range lies between -1 to 1. \n",
        "\n",
        "* A score closer to 1 indicates that the data point is very similar to other data points in the cluster, \n",
        "\n",
        "* A score closer to -1 indicates that the data point is not similar to the data points in its cluster."
      ],
      "metadata": {
        "id": "_dDzCr9IcBEx"
      }
    },
    {
      "cell_type": "code",
      "source": [
        "# Silhouette analysis\n",
        "range_n_clusters = [2, 3, 4, 5, 6, 7, 8]\n",
        "\n",
        "for num_clusters in range_n_clusters:\n",
        "    \n",
        "    # intialise kmeans\n",
        "    kmeans = KMeans(n_clusters=num_clusters, max_iter=50)\n",
        "    kmeans.fit(rfm_df_scaled)\n",
        "    \n",
        "    cluster_labels = kmeans.labels_\n",
        "    \n",
        "    # silhouette score\n",
        "    silhouette_avg = silhouette_score(rfm_df_scaled, cluster_labels)\n",
        "    print(\"For n_clusters={0}, the silhouette score is {1}\".format(num_clusters, silhouette_avg))\n",
        "    \n",
        "    "
      ],
      "metadata": {
        "trusted": true,
        "id": "d5c036yicBEx"
      },
      "execution_count": null,
      "outputs": []
    },
    {
      "cell_type": "code",
      "source": [
        "# Final model with k=3\n",
        "kmeans = KMeans(n_clusters=3, max_iter=50)\n",
        "kmeans.fit(rfm_df_scaled)"
      ],
      "metadata": {
        "trusted": true,
        "id": "bfysKSEzcBEx"
      },
      "execution_count": null,
      "outputs": []
    },
    {
      "cell_type": "code",
      "source": [
        " kmeans.labels_"
      ],
      "metadata": {
        "trusted": true,
        "id": "Pz9RzLK-cBEy"
      },
      "execution_count": null,
      "outputs": []
    },
    {
      "cell_type": "code",
      "source": [
        "# assign the label\n",
        "rfm['Cluster_Id'] = kmeans.labels_\n",
        "rfm.head()"
      ],
      "metadata": {
        "trusted": true,
        "id": "4KQZR0PkcBEy"
      },
      "execution_count": null,
      "outputs": []
    },
    {
      "cell_type": "code",
      "source": [
        "# Box plot to visualize Cluster Id vs Frequency\n",
        "\n",
        "sns.boxplot(x='Cluster_Id', y='Amount', data=rfm)"
      ],
      "metadata": {
        "trusted": true,
        "id": "EdqrXOIgcBEy"
      },
      "execution_count": null,
      "outputs": []
    },
    {
      "cell_type": "code",
      "source": [
        "# Box plot to visualize Cluster Id vs Frequency\n",
        "\n",
        "sns.boxplot(x='Cluster_Id', y='Frequency', data=rfm)"
      ],
      "metadata": {
        "trusted": true,
        "id": "EDhnb4nucBEz"
      },
      "execution_count": null,
      "outputs": []
    },
    {
      "cell_type": "code",
      "source": [
        "# Box plot to visualize Cluster Id vs Recency\n",
        "\n",
        "sns.boxplot(x='Cluster_Id', y='Recency', data=rfm)"
      ],
      "metadata": {
        "trusted": true,
        "id": "_QY9xS5hcBEz"
      },
      "execution_count": null,
      "outputs": []
    },
    {
      "cell_type": "markdown",
      "source": [
        "### Hierarchical Clustering\n",
        "\n",
        "Hierarchical clustering involves creating clusters that have a predetermined ordering from top to bottom. For example, all files and folders on the hard disk are organized in a hierarchy. There are two types of hierarchical clustering, \n",
        "- Divisive \n",
        "- Agglomerative."
      ],
      "metadata": {
        "id": "5TeaVvEAcBEz"
      }
    },
    {
      "cell_type": "markdown",
      "source": [
        "**Single Linkage:<br>**\n",
        "\n",
        "In single linkage hierarchical clustering, the distance between two clusters is defined as the shortest distance between two points in each cluster. For example, the distance between clusters “r” and “s” to the left is equal to the length of the arrow between their two closest points.\n",
        "![](https://www.saedsayad.com/images/Clustering_single.png)"
      ],
      "metadata": {
        "id": "YP92G6jRcBE0"
      }
    },
    {
      "cell_type": "code",
      "source": [
        "# Single linkage: \n",
        "\n",
        "mergings = linkage(rfm_df_scaled, method=\"single\", metric='euclidean')\n",
        "dendrogram(mergings)\n",
        "plt.show()"
      ],
      "metadata": {
        "trusted": true,
        "id": "Af2mxgHJcBE0"
      },
      "execution_count": null,
      "outputs": []
    },
    {
      "cell_type": "markdown",
      "source": [
        "**Complete Linkage<br>**\n",
        "\n",
        "In complete linkage hierarchical clustering, the distance between two clusters is defined as the longest distance between two points in each cluster. For example, the distance between clusters “r” and “s” to the left is equal to the length of the arrow between their two furthest points. \n",
        "![](https://www.saedsayad.com/images/Clustering_complete.png)"
      ],
      "metadata": {
        "id": "SVEgpxdUcBE0"
      }
    },
    {
      "cell_type": "code",
      "source": [
        "# Complete linkage\n",
        "\n",
        "mergings = linkage(rfm_df_scaled, method=\"complete\", metric='euclidean')\n",
        "dendrogram(mergings)\n",
        "plt.show()"
      ],
      "metadata": {
        "trusted": true,
        "id": "om2jD48XcBE1"
      },
      "execution_count": null,
      "outputs": []
    },
    {
      "cell_type": "markdown",
      "source": [
        "**Average Linkage:<br>**\n",
        "\n",
        "In average linkage hierarchical clustering, the distance between two clusters is defined as the average distance between each point in one cluster to every point in the other cluster. For example, the distance between clusters “r” and “s” to the left is equal to the average length each arrow between connecting the points of one cluster to the other.\n",
        "![](https://www.saedsayad.com/images/Clustering_average.png)"
      ],
      "metadata": {
        "id": "MACiYyrVcBE1"
      }
    },
    {
      "cell_type": "code",
      "source": [
        "# Average linkage\n",
        "\n",
        "mergings = linkage(rfm_df_scaled, method=\"average\", metric='euclidean')\n",
        "dendrogram(mergings)\n",
        "plt.show()"
      ],
      "metadata": {
        "trusted": true,
        "id": "5crZWoBHcBE1"
      },
      "execution_count": null,
      "outputs": []
    },
    {
      "cell_type": "markdown",
      "source": [
        "#### Cutting the Dendrogram based on K"
      ],
      "metadata": {
        "id": "Ct29baJ-cBE2"
      }
    },
    {
      "cell_type": "code",
      "source": [
        "# 3 clusters\n",
        "cluster_labels = cut_tree(mergings, n_clusters=3).reshape(-1, )\n",
        "cluster_labels"
      ],
      "metadata": {
        "trusted": true,
        "id": "xHgG-CWpcBE2"
      },
      "execution_count": null,
      "outputs": []
    },
    {
      "cell_type": "code",
      "source": [
        "# Assign cluster labels\n",
        "\n",
        "rfm['Cluster_Labels'] = cluster_labels\n",
        "rfm.head()"
      ],
      "metadata": {
        "trusted": true,
        "id": "eP8RnQTYcBE2"
      },
      "execution_count": null,
      "outputs": []
    },
    {
      "cell_type": "code",
      "source": [
        "# Plot Cluster Id vs Amount\n",
        "\n",
        "sns.boxplot(x='Cluster_Labels', y='Amount', data=rfm)"
      ],
      "metadata": {
        "trusted": true,
        "id": "pFkOi5nHcBE3"
      },
      "execution_count": null,
      "outputs": []
    },
    {
      "cell_type": "code",
      "source": [
        "# Plot Cluster Id vs Frequency\n",
        "\n",
        "sns.boxplot(x='Cluster_Labels', y='Frequency', data=rfm)"
      ],
      "metadata": {
        "trusted": true,
        "id": "bM3s70aUcBE3"
      },
      "execution_count": null,
      "outputs": []
    },
    {
      "cell_type": "code",
      "source": [
        "# Plot Cluster Id vs Recency\n",
        "\n",
        "sns.boxplot(x='Cluster_Labels', y='Recency', data=rfm)"
      ],
      "metadata": {
        "trusted": true,
        "id": "DEWcE4avcBE3"
      },
      "execution_count": null,
      "outputs": []
    },
    {
      "cell_type": "markdown",
      "source": [
        "<a id=\"5\"></a> <br>\n",
        "## Step 5 : Final Analysis"
      ],
      "metadata": {
        "id": "Mrmr2CGGcBE4"
      }
    },
    {
      "cell_type": "markdown",
      "source": [
        "### Inference:\n",
        "K-Means Clustering with 3 Cluster Ids\n",
        "- Customers with Cluster Id 1 are the customers with high amount of transactions as compared to other customers.\n",
        "- Customers with Cluster Id 1 are frequent buyers.\n",
        "- Customers with Cluster Id 2 are not recent buyers and hence least of importance from business point of view."
      ],
      "metadata": {
        "id": "7vARX_TwcBE4"
      }
    },
    {
      "cell_type": "markdown",
      "source": [
        "Hierarchical Clustering with 3 Cluster Labels\n",
        "- Customers with Cluster_Labels 2 are the customers with high amount of transactions as compared to other customers.\n",
        "- Customers with Cluster_Labels 2 are frequent buyers.\n",
        "- Customers with Cluster_Labels 0 are not recent buyers and hence least of importance from business point of view."
      ],
      "metadata": {
        "id": "-VBSN39UcBE4"
      }
    },
    {
      "cell_type": "markdown",
      "source": [
        "### If this Kernel helped you in any way, some <font color=\"red\"><b>UPVOTES</b></font> would be very much appreciated"
      ],
      "metadata": {
        "id": "bzqJi2y5cBE4"
      }
    }
  ]
}